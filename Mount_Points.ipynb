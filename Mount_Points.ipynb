{
 "cells": [
  {
   "cell_type": "code",
   "execution_count": 0,
   "metadata": {
    "application/vnd.databricks.v1+cell": {
     "cellMetadata": {
      "byteLimit": 2048000,
      "rowLimit": 10000
     },
     "inputWidgets": {},
     "nuid": "66feb14c-a832-485d-a258-053bdb6dd5e4",
     "showTitle": false,
     "title": ""
    }
   },
   "outputs": [],
   "source": [
    "#Variables transversales en el instanciamiento de los puntos de montaje\n",
    "container = \"storage\"\n",
    "storage_account = \"pruebadbck\" "
   ]
  },
  {
   "cell_type": "code",
   "execution_count": 0,
   "metadata": {
    "application/vnd.databricks.v1+cell": {
     "cellMetadata": {
      "byteLimit": 2048000,
      "rowLimit": 10000
     },
     "inputWidgets": {},
     "nuid": "316a0454-f85e-4e1f-a631-a5caff46055d",
     "showTitle": false,
     "title": ""
    }
   },
   "outputs": [],
   "source": [
    "key_storage = dbutils.secrets.get(scope = 'Prueba-Scope', key = 'AccessKey-StorageAccount') "
   ]
  },
  {
   "cell_type": "code",
   "execution_count": 0,
   "metadata": {
    "application/vnd.databricks.v1+cell": {
     "cellMetadata": {
      "byteLimit": 2048000,
      "rowLimit": 10000
     },
     "inputWidgets": {},
     "nuid": "05245ddb-264b-42fa-9212-4194239c6a60",
     "showTitle": false,
     "title": ""
    }
   },
   "outputs": [],
   "source": [
    "#Punto de montaje definido en funcion del contenedor que se encuentra en el blob storage\n",
    "mount_point_base = f'/mnt/{container}/'"
   ]
  },
  {
   "cell_type": "code",
   "execution_count": 0,
   "metadata": {
    "application/vnd.databricks.v1+cell": {
     "cellMetadata": {
      "byteLimit": 2048000,
      "rowLimit": 10000
     },
     "inputWidgets": {},
     "nuid": "6479a748-cddd-4525-bf0a-d39a0948ba26",
     "showTitle": false,
     "title": ""
    }
   },
   "outputs": [
    {
     "output_type": "execute_result",
     "data": {
      "text/plain": [
       "['/mnt/storage/']"
      ]
     },
     "execution_count": 5,
     "metadata": {},
     "output_type": "execute_result"
    }
   ],
   "source": [
    "#Se define una lista en funcion de el/los puntos de montaje que seran instanciados\n",
    "mount_points_list = [\n",
    "    mount_point_base\n",
    "]\n",
    "mount_points_list"
   ]
  },
  {
   "cell_type": "code",
   "execution_count": 0,
   "metadata": {
    "application/vnd.databricks.v1+cell": {
     "cellMetadata": {
      "byteLimit": 2048000,
      "rowLimit": 10000
     },
     "inputWidgets": {},
     "nuid": "96226c86-41cb-4df9-9b4f-c160072aeecd",
     "showTitle": false,
     "title": ""
    }
   },
   "outputs": [
    {
     "output_type": "stream",
     "name": "stdout",
     "output_type": "stream",
     "text": [
      "/mnt/storage/\n"
     ]
    }
   ],
   "source": [
    "source_list = list(( mount_points_list))\n",
    "for i in range(len(mount_points_list)):\n",
    "    #dbutils.fs.mount(source_list[i], mount_points_list[i])\n",
    "    dbutils.fs.mount(\n",
    "    source = f\"wasbs://{container}@{storage_account}.blob.core.windows.net\",\n",
    "    mount_point = f\"{mount_point_base}\",\n",
    "    extra_configs = {f\"fs.azure.account.key.{storage_account}.blob.core.windows.net\":f\"{key_storage}\"}\n",
    ")\n",
    "    print(mount_points_list[i])"
   ]
  },
  {
   "cell_type": "code",
   "execution_count": 0,
   "metadata": {
    "application/vnd.databricks.v1+cell": {
     "cellMetadata": {
      "byteLimit": 2048000,
      "rowLimit": 10000
     },
     "inputWidgets": {},
     "nuid": "46a64e1a-8f82-40ed-85e6-26ddbca0337b",
     "showTitle": false,
     "title": ""
    }
   },
   "outputs": [
    {
     "output_type": "execute_result",
     "data": {
      "text/plain": [
       "[FileInfo(path='dbfs:/mnt/storage/Data/', name='Data/', size=0, modificationTime=0)]"
      ]
     },
     "execution_count": 8,
     "metadata": {},
     "output_type": "execute_result"
    }
   ],
   "source": [
    "dbutils.fs.ls(mount_point_base)"
   ]
  }
 ],
 "metadata": {
  "application/vnd.databricks.v1+notebook": {
   "dashboards": [],
   "environmentMetadata": null,
   "language": "python",
   "notebookMetadata": {
    "pythonIndentUnit": 4
   },
   "notebookName": "Mount_Points",
   "widgets": {}
  }
 },
 "nbformat": 4,
 "nbformat_minor": 0
}

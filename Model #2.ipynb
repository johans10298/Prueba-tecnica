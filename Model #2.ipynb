{
 "cells": [
  {
   "cell_type": "code",
   "execution_count": 0,
   "metadata": {
    "application/vnd.databricks.v1+cell": {
     "cellMetadata": {
      "byteLimit": 2048000,
      "rowLimit": 10000
     },
     "inputWidgets": {},
     "nuid": "b5b82412-0b97-4d09-8655-0d747e018f77",
     "showTitle": false,
     "title": ""
    }
   },
   "outputs": [
    {
     "output_type": "stream",
     "name": "stdout",
     "output_type": "stream",
     "text": [
      "Requirement already satisfied: openai==0.28 in /local_disk0/.ephemeral_nfs/envs/pythonEnv-cc7cdb11-c90d-40ca-9409-0e08595c197d/lib/python3.11/site-packages (0.28.0)\nRequirement already satisfied: requests>=2.20 in /databricks/python3/lib/python3.11/site-packages (from openai==0.28) (2.31.0)\nRequirement already satisfied: tqdm in /databricks/python3/lib/python3.11/site-packages (from openai==0.28) (4.65.0)\nRequirement already satisfied: aiohttp in /databricks/python3/lib/python3.11/site-packages (from openai==0.28) (3.8.5)\nRequirement already satisfied: charset-normalizer<4,>=2 in /databricks/python3/lib/python3.11/site-packages (from requests>=2.20->openai==0.28) (2.0.4)\nRequirement already satisfied: idna<4,>=2.5 in /databricks/python3/lib/python3.11/site-packages (from requests>=2.20->openai==0.28) (3.4)\nRequirement already satisfied: urllib3<3,>=1.21.1 in /databricks/python3/lib/python3.11/site-packages (from requests>=2.20->openai==0.28) (1.26.16)\nRequirement already satisfied: certifi>=2017.4.17 in /databricks/python3/lib/python3.11/site-packages (from requests>=2.20->openai==0.28) (2023.7.22)\nRequirement already satisfied: attrs>=17.3.0 in /databricks/python3/lib/python3.11/site-packages (from aiohttp->openai==0.28) (22.1.0)\nRequirement already satisfied: multidict<7.0,>=4.5 in /databricks/python3/lib/python3.11/site-packages (from aiohttp->openai==0.28) (6.0.2)\nRequirement already satisfied: async-timeout<5.0,>=4.0.0a3 in /databricks/python3/lib/python3.11/site-packages (from aiohttp->openai==0.28) (4.0.2)\nRequirement already satisfied: yarl<2.0,>=1.0 in /databricks/python3/lib/python3.11/site-packages (from aiohttp->openai==0.28) (1.8.1)\nRequirement already satisfied: frozenlist>=1.1.1 in /databricks/python3/lib/python3.11/site-packages (from aiohttp->openai==0.28) (1.3.3)\nRequirement already satisfied: aiosignal>=1.1.2 in /databricks/python3/lib/python3.11/site-packages (from aiohttp->openai==0.28) (1.2.0)\n\u001B[43mNote: you may need to restart the kernel using %restart_python or dbutils.library.restartPython() to use updated packages.\u001B[0m\n"
     ]
    }
   ],
   "source": [
    "%pip install openai==0.28"
   ]
  },
  {
   "cell_type": "code",
   "execution_count": 0,
   "metadata": {
    "application/vnd.databricks.v1+cell": {
     "cellMetadata": {
      "byteLimit": 2048000,
      "rowLimit": 10000
     },
     "inputWidgets": {},
     "nuid": "08a90091-e1da-4005-8c62-54ffb4ffe440",
     "showTitle": false,
     "title": ""
    }
   },
   "outputs": [
    {
     "output_type": "stream",
     "name": "stdout",
     "output_type": "stream",
     "text": [
      "Collecting fitz\n  Obtaining dependency information for fitz from https://files.pythonhosted.org/packages/7e/28/27f27d66eb82f24e6595deb26c0a875e62431878c416e38eac515023abb2/fitz-0.0.1.dev2-py2.py3-none-any.whl.metadata\n  Downloading fitz-0.0.1.dev2-py2.py3-none-any.whl.metadata (816 bytes)\nCollecting configobj (from fitz)\n  Obtaining dependency information for configobj from https://files.pythonhosted.org/packages/d3/bb/d10e531b297dd1d46f6b1fd11d018247af9f2d460037554bb7bb9011c6ac/configobj-5.0.8-py2.py3-none-any.whl.metadata\n  Downloading configobj-5.0.8-py2.py3-none-any.whl.metadata (3.4 kB)\nRequirement already satisfied: configparser in /databricks/python3/lib/python3.11/site-packages (from fitz) (5.2.0)\nRequirement already satisfied: httplib2 in /usr/lib/python3/dist-packages (from fitz) (0.20.2)\nCollecting nibabel (from fitz)\n  Obtaining dependency information for nibabel from https://files.pythonhosted.org/packages/77/3f/ce43b8c2ccc4a7913a87c4d425aaf0080ea3abf947587e47dc2025981a17/nibabel-5.2.1-py3-none-any.whl.metadata\n  Downloading nibabel-5.2.1-py3-none-any.whl.metadata (8.8 kB)\nCollecting nipype (from fitz)\n  Obtaining dependency information for nipype from https://files.pythonhosted.org/packages/60/02/d4e8c990e14d7efcb35038a3d1743ff5068d66d92c1fcc298c9654bae55d/nipype-1.8.6-py3-none-any.whl.metadata\n  Downloading nipype-1.8.6-py3-none-any.whl.metadata (6.6 kB)\nRequirement already satisfied: numpy in /databricks/python3/lib/python3.11/site-packages (from fitz) (1.23.5)\nRequirement already satisfied: pandas in /databricks/python3/lib/python3.11/site-packages (from fitz) (1.5.3)\nCollecting pyxnat (from fitz)\n  Obtaining dependency information for pyxnat from https://files.pythonhosted.org/packages/97/f6/dbe92707b35f3fec297228e81cbf35e0b1028e20c98a0cea1650e967f88a/pyxnat-1.6.2-py3-none-any.whl.metadata\n  Downloading pyxnat-1.6.2-py3-none-any.whl.metadata (5.3 kB)\nRequirement already satisfied: scipy in /databricks/python3/lib/python3.11/site-packages (from fitz) (1.11.1)\nRequirement already satisfied: six in /usr/lib/python3/dist-packages (from configobj->fitz) (1.16.0)\nRequirement already satisfied: pyparsing!=3.0.0,!=3.0.1,!=3.0.2,!=3.0.3,<4,>=2.4.2 in /databricks/python3/lib/python3.11/site-packages (from httplib2->fitz) (3.0.9)\nRequirement already satisfied: packaging>=17 in /databricks/python3/lib/python3.11/site-packages (from nibabel->fitz) (23.2)\nRequirement already satisfied: click>=6.6.0 in /databricks/python3/lib/python3.11/site-packages (from nipype->fitz) (8.0.4)\nRequirement already satisfied: networkx>=2.0 in /databricks/python3/lib/python3.11/site-packages (from nipype->fitz) (3.1)\nCollecting prov>=1.5.2 (from nipype->fitz)\n  Obtaining dependency information for prov>=1.5.2 from https://files.pythonhosted.org/packages/5a/f5/3e6601314761606cdf99416eff877bce4edb31ba2cb1fbc5a123c982857e/prov-2.0.1-py3-none-any.whl.metadata\n  Downloading prov-2.0.1-py3-none-any.whl.metadata (3.6 kB)\nCollecting pydot>=1.2.3 (from nipype->fitz)\n  Obtaining dependency information for pydot>=1.2.3 from https://files.pythonhosted.org/packages/9a/fd/df3932340498a8f38c6107c95b0eb1d9ac406c5ea1307c8f43408977378e/pydot-3.0.1-py3-none-any.whl.metadata\n  Downloading pydot-3.0.1-py3-none-any.whl.metadata (9.9 kB)\nRequirement already satisfied: python-dateutil>=2.2 in /databricks/python3/lib/python3.11/site-packages (from nipype->fitz) (2.8.2)\nCollecting rdflib>=5.0.0 (from nipype->fitz)\n  Obtaining dependency information for rdflib>=5.0.0 from https://files.pythonhosted.org/packages/d4/b0/7b7d8b5b0d01f1a0b12cc2e5038a868ef3a15825731b8a0d776cf47566c0/rdflib-7.0.0-py3-none-any.whl.metadata\n  Downloading rdflib-7.0.0-py3-none-any.whl.metadata (11 kB)\nRequirement already satisfied: simplejson>=3.8.0 in /databricks/python3/lib/python3.11/site-packages (from nipype->fitz) (3.17.6)\nCollecting traits!=5.0,<6.4,>=4.6 (from nipype->fitz)\n  Downloading traits-6.3.2.tar.gz (9.5 MB)\n\u001B[?25l     \u001B[90m━━━━━━━━━━━━━━━━━━━━━━━━━━━━━━━━━━━━━━━━\u001B[0m \u001B[32m0.0/9.5 MB\u001B[0m \u001B[31m?\u001B[0m eta \u001B[36m-:--:--\u001B[0m\n\u001B[2K     \u001B[91m━━━━━━━━━\u001B[0m\u001B[90m╺\u001B[0m\u001B[90m━━━━━━━━━━━━━━━━━━━━━━━━━━━━━━\u001B[0m \u001B[32m2.2/9.5 MB\u001B[0m \u001B[31m64.8 MB/s\u001B[0m eta \u001B[36m0:00:01\u001B[0m\n\u001B[2K     \u001B[91m━━━━━━━━━━━━━━━━━━━━━━━━━━━━━━━━━━━━━━━\u001B[0m\u001B[91m╸\u001B[0m \u001B[32m9.5/9.5 MB\u001B[0m \u001B[31m142.6 MB/s\u001B[0m eta \u001B[36m0:00:01\u001B[0m\n\u001B[2K     \u001B[91m━━━━━━━━━━━━━━━━━━━━━━━━━━━━━━━━━━━━━━━\u001B[0m\u001B[91m╸\u001B[0m \u001B[32m9.5/9.5 MB\u001B[0m \u001B[31m142.6 MB/s\u001B[0m eta \u001B[36m0:00:01\u001B[0m\n\u001B[2K     \u001B[91m━━━━━━━━━━━━━━━━━━━━━━━━━━━━━━━━━━━━━━━\u001B[0m\u001B[91m╸\u001B[0m \u001B[32m9.5/9.5 MB\u001B[0m \u001B[31m142.6 MB/s\u001B[0m eta \u001B[36m0:00:01\u001B[0m\n\u001B[2K     \u001B[91m━━━━━━━━━━━━━━━━━━━━━━━━━━━━━━━━━━━━━━━\u001B[0m\u001B[91m╸\u001B[0m \u001B[32m9.5/9.5 MB\u001B[0m \u001B[31m142.6 MB/s\u001B[0m eta \u001B[36m0:00:01\u001B[0m\n\u001B[2K     \u001B[91m━━━━━━━━━━━━━━━━━━━━━━━━━━━━━━━━━━━━━━━\u001B[0m\u001B[91m╸\u001B[0m \u001B[32m9.5/9.5 MB\u001B[0m \u001B[31m142.6 MB/s\u001B[0m eta \u001B[36m0:00:01\u001B[0m\n\u001B[2K     \u001B[91m━━━━━━━━━━━━━━━━━━━━━━━━━━━━━━━━━━━━━━━\u001B[0m\u001B[91m╸\u001B[0m \u001B[32m9.5/9.5 MB\u001B[0m \u001B[31m142.6 MB/s\u001B[0m eta \u001B[36m0:00:01\u001B[0m\n\u001B[2K     \u001B[91m━━━━━━━━━━━━━━━━━━━━━━━━━━━━━━━━━━━━━━━\u001B[0m\u001B[91m╸\u001B[0m \u001B[32m9.5/9.5 MB\u001B[0m \u001B[31m142.6 MB/s\u001B[0m eta \u001B[36m0:00:01\u001B[0m\n\u001B[2K     \u001B[90m━━━━━━━━━━━━━━━━━━━━━━━━━━━━━━━━━━━━━━━━\u001B[0m \u001B[32m9.5/9.5 MB\u001B[0m \u001B[31m33.3 MB/s\u001B[0m eta \u001B[36m0:00:00\u001B[0m\n\u001B[?25h  Preparing metadata (setup.py): started\n  Preparing metadata (setup.py): finished with status 'done'\nRequirement already satisfied: filelock>=3.0.0 in /databricks/python3/lib/python3.11/site-packages (from nipype->fitz) (3.13.4)\nCollecting etelemetry>=0.2.0 (from nipype->fitz)\n  Obtaining dependency information for etelemetry>=0.2.0 from https://files.pythonhosted.org/packages/83/27/f997c9da0e179986fadd6c8474d16743f1b3697c129c2fcd1e739cd038c2/etelemetry-0.3.1-py3-none-any.whl.metadata\n  Downloading etelemetry-0.3.1-py3-none-any.whl.metadata (3.2 kB)\nCollecting looseversion (from nipype->fitz)\n  Obtaining dependency information for looseversion from https://files.pythonhosted.org/packages/4e/74/d5405b9b3b12e9176dff223576d7090bc161092878f533fd0dc23dd6ae1d/looseversion-1.3.0-py2.py3-none-any.whl.metadata\n  Downloading looseversion-1.3.0-py2.py3-none-any.whl.metadata (4.6 kB)\nRequirement already satisfied: pytz>=2020.1 in /databricks/python3/lib/python3.11/site-packages (from pandas->fitz) (2022.7)\nRequirement already satisfied: lxml>=4.3 in /databricks/python3/lib/python3.11/site-packages (from pyxnat->fitz) (4.9.2)\nRequirement already satisfied: requests>=2.20 in /databricks/python3/lib/python3.11/site-packages (from pyxnat->fitz) (2.31.0)\nCollecting pathlib>=1.0 (from pyxnat->fitz)\n  Obtaining dependency information for pathlib>=1.0 from https://files.pythonhosted.org/packages/78/f9/690a8600b93c332de3ab4a344a4ac34f00c8f104917061f779db6a918ed6/pathlib-1.0.1-py3-none-any.whl.metadata\n  Downloading pathlib-1.0.1-py3-none-any.whl.metadata (5.1 kB)\nCollecting ci-info>=0.2 (from etelemetry>=0.2.0->nipype->fitz)\n  Obtaining dependency information for ci-info>=0.2 from https://files.pythonhosted.org/packages/13/c3/8ac768b389d5b6dda1c3ce7992b3acd2b46401f9b71439123858b17b1a2c/ci_info-0.3.0-py3-none-any.whl.metadata\n  Downloading ci_info-0.3.0-py3-none-any.whl.metadata (6.1 kB)\nCollecting rdflib>=5.0.0 (from nipype->fitz)\n  Obtaining dependency information for rdflib>=5.0.0 from https://files.pythonhosted.org/packages/af/92/d7fb1d7fb70c9f7003fa50b7a3880ebcb311cc3f8552b3595e7c8f75aeeb/rdflib-6.3.2-py3-none-any.whl.metadata\n  Downloading rdflib-6.3.2-py3-none-any.whl.metadata (11 kB)\nRequirement already satisfied: isodate<0.7.0,>=0.6.0 in /databricks/python3/lib/python3.11/site-packages (from rdflib>=5.0.0->nipype->fitz) (0.6.1)\nRequirement already satisfied: charset-normalizer<4,>=2 in /databricks/python3/lib/python3.11/site-packages (from requests>=2.20->pyxnat->fitz) (2.0.4)\nRequirement already satisfied: idna<4,>=2.5 in /databricks/python3/lib/python3.11/site-packages (from requests>=2.20->pyxnat->fitz) (3.4)\nRequirement already satisfied: urllib3<3,>=1.21.1 in /databricks/python3/lib/python3.11/site-packages (from requests>=2.20->pyxnat->fitz) (1.26.16)\nRequirement already satisfied: certifi>=2017.4.17 in /databricks/python3/lib/python3.11/site-packages (from requests>=2.20->pyxnat->fitz) (2023.7.22)\nDownloading fitz-0.0.1.dev2-py2.py3-none-any.whl (20 kB)\nDownloading configobj-5.0.8-py2.py3-none-any.whl (36 kB)\nDownloading nibabel-5.2.1-py3-none-any.whl (3.3 MB)\n\u001B[?25l   \u001B[90m━━━━━━━━━━━━━━━━━━━━━━━━━━━━━━━━━━━━━━━━\u001B[0m \u001B[32m0.0/3.3 MB\u001B[0m \u001B[31m?\u001B[0m eta \u001B[36m-:--:--\u001B[0m\n\u001B[2K   \u001B[91m━━━━━━━━━━━━━━━━━━━━━━━━━━━━━━━━━━━━━━━\u001B[0m\u001B[91m╸\u001B[0m \u001B[32m3.3/3.3 MB\u001B[0m \u001B[31m240.1 MB/s\u001B[0m eta \u001B[36m0:00:01\u001B[0m\n\u001B[2K   \u001B[91m━━━━━━━━━━━━━━━━━━━━━━━━━━━━━━━━━━━━━━━\u001B[0m\u001B[91m╸\u001B[0m \u001B[32m3.3/3.3 MB\u001B[0m \u001B[31m240.1 MB/s\u001B[0m eta \u001B[36m0:00:01\u001B[0m\n\u001B[2K   \u001B[91m━━━━━━━━━━━━━━━━━━━━━━━━━━━━━━━━━━━━━━━\u001B[0m\u001B[91m╸\u001B[0m \u001B[32m3.3/3.3 MB\u001B[0m \u001B[31m240.1 MB/s\u001B[0m eta \u001B[36m0:00:01\u001B[0m\n\u001B[2K   \u001B[91m━━━━━━━━━━━━━━━━━━━━━━━━━━━━━━━━━━━━━━━\u001B[0m\u001B[91m╸\u001B[0m \u001B[32m3.3/3.3 MB\u001B[0m \u001B[31m240.1 MB/s\u001B[0m eta \u001B[36m0:00:01\u001B[0m\n\u001B[2K   \u001B[91m━━━━━━━━━━━━━━━━━━━━━━━━━━━━━━━━━━━━━━━\u001B[0m\u001B[91m╸\u001B[0m \u001B[32m3.3/3.3 MB\u001B[0m \u001B[31m240.1 MB/s\u001B[0m eta \u001B[36m0:00:01\u001B[0m\n\u001B[2K   \u001B[90m━━━━━━━━━━━━━━━━━━━━━━━━━━━━━━━━━━━━━━━━\u001B[0m \u001B[32m3.3/3.3 MB\u001B[0m \u001B[31m17.0 MB/s\u001B[0m eta \u001B[36m0:00:00\u001B[0m\n\u001B[?25hDownloading nipype-1.8.6-py3-none-any.whl (3.2 MB)\n\u001B[?25l   \u001B[90m━━━━━━━━━━━━━━━━━━━━━━━━━━━━━━━━━━━━━━━━\u001B[0m \u001B[32m0.0/3.2 MB\u001B[0m \u001B[31m?\u001B[0m eta \u001B[36m-:--:--\u001B[0m\n\u001B[2K   \u001B[91m━━━━━━━━━━━━━━━━━━━━━━━━━━━━━━━━━━━━━━━\u001B[0m\u001B[91m╸\u001B[0m \u001B[32m3.2/3.2 MB\u001B[0m \u001B[31m249.1 MB/s\u001B[0m eta \u001B[36m0:00:01\u001B[0m\n\u001B[2K   \u001B[91m━━━━━━━━━━━━━━━━━━━━━━━━━━━━━━━━━━━━━━━\u001B[0m\u001B[91m╸\u001B[0m \u001B[32m3.2/3.2 MB\u001B[0m \u001B[31m249.1 MB/s\u001B[0m eta \u001B[36m0:00:01\u001B[0m\n\u001B[2K   \u001B[91m━━━━━━━━━━━━━━━━━━━━━━━━━━━━━━━━━━━━━━━\u001B[0m\u001B[91m╸\u001B[0m \u001B[32m3.2/3.2 MB\u001B[0m \u001B[31m249.1 MB/s\u001B[0m eta \u001B[36m0:00:01\u001B[0m\n\u001B[2K   \u001B[91m━━━━━━━━━━━━━━━━━━━━━━━━━━━━━━━━━━━━━━━\u001B[0m\u001B[91m╸\u001B[0m \u001B[32m3.2/3.2 MB\u001B[0m \u001B[31m249.1 MB/s\u001B[0m eta \u001B[36m0:00:01\u001B[0m\n\u001B[2K   \u001B[90m━━━━━━━━━━━━━━━━━━━━━━━━━━━━━━━━━━━━━━━━\u001B[0m \u001B[32m3.2/3.2 MB\u001B[0m \u001B[31m19.1 MB/s\u001B[0m eta \u001B[36m0:00:00\u001B[0m\n\u001B[?25hDownloading pyxnat-1.6.2-py3-none-any.whl (95 kB)\n\u001B[?25l   \u001B[90m━━━━━━━━━━━━━━━━━━━━━━━━━━━━━━━━━━━━━━━━\u001B[0m \u001B[32m0.0/95.6 kB\u001B[0m \u001B[31m?\u001B[0m eta \u001B[36m-:--:--\u001B[0m\n\u001B[2K   \u001B[90m━━━━━━━━━━━━━━━━━━━━━━━━━━━━━━━━━━━━━━━━\u001B[0m \u001B[32m95.6/95.6 kB\u001B[0m \u001B[31m7.6 MB/s\u001B[0m eta \u001B[36m0:00:00\u001B[0m\n\u001B[?25hDownloading etelemetry-0.3.1-py3-none-any.whl (6.4 kB)\nDownloading pathlib-1.0.1-py3-none-any.whl (14 kB)\nDownloading prov-2.0.1-py3-none-any.whl (421 kB)\n\u001B[?25l   \u001B[90m━━━━━━━━━━━━━━━━━━━━━━━━━━━━━━━━━━━━━━━━\u001B[0m \u001B[32m0.0/421.5 kB\u001B[0m \u001B[31m?\u001B[0m eta \u001B[36m-:--:--\u001B[0m\n\u001B[2K   \u001B[91m━━━━━━━━━━━━━━━━━━━━━━━━━━━━━━━━━━━━━━\u001B[0m\u001B[91m╸\u001B[0m \u001B[32m419.8/421.5 kB\u001B[0m \u001B[31m257.2 MB/s\u001B[0m eta \u001B[36m0:00:01\u001B[0m\n\u001B[2K   \u001B[90m━━━━━━━━━━━━━━━━━━━━━━━━━━━━━━━━━━━━━━━━\u001B[0m \u001B[32m421.5/421.5 kB\u001B[0m \u001B[31m6.3 MB/s\u001B[0m eta \u001B[36m0:00:00\u001B[0m\n\u001B[?25hDownloading pydot-3.0.1-py3-none-any.whl (22 kB)\nDownloading rdflib-6.3.2-py3-none-any.whl (528 kB)\n\u001B[?25l   \u001B[90m━━━━━━━━━━━━━━━━━━━━━━━━━━━━━━━━━━━━━━━━\u001B[0m \u001B[32m0.0/528.1 kB\u001B[0m \u001B[31m?\u001B[0m eta \u001B[36m-:--:--\u001B[0m\n\u001B[2K   \u001B[91m━━━━━━━━━━━━━━━━━━━━━━━━━━━━━━━━━━━━━━\u001B[0m\u001B[91m╸\u001B[0m \u001B[32m522.2/528.1 kB\u001B[0m \u001B[31m235.6 MB/s\u001B[0m eta \u001B[36m0:00:01\u001B[0m\n\u001B[2K   \u001B[90m━━━━━━━━━━━━━━━━━━━━━━━━━━━━━━━━━━━━━━━━\u001B[0m \u001B[32m528.1/528.1 kB\u001B[0m \u001B[31m13.3 MB/s\u001B[0m eta \u001B[36m0:00:00\u001B[0m\n\u001B[?25hDownloading looseversion-1.3.0-py2.py3-none-any.whl (8.2 kB)\nDownloading ci_info-0.3.0-py3-none-any.whl (7.8 kB)\nBuilding wheels for collected packages: traits\n  Building wheel for traits (setup.py): started\n  Building wheel for traits (setup.py): finished with status 'done'\n  Created wheel for traits: filename=traits-6.3.2-cp311-cp311-linux_x86_64.whl size=5083089 sha256=638dea67059f94e62d53fd55f78379739785a3b2236d9c61655db3f56bd86a07\n  Stored in directory: /root/.cache/pip/wheels/eb/95/6e/3d5c21d6b340b7b64a86b7926293decf7f6991f67f914819ae\nSuccessfully built traits\nInstalling collected packages: pathlib, looseversion, traits, pydot, nibabel, configobj, ci-info, rdflib, pyxnat, etelemetry, prov, nipype, fitz\nSuccessfully installed ci-info-0.3.0 configobj-5.0.8 etelemetry-0.3.1 fitz-0.0.1.dev2 looseversion-1.3.0 nibabel-5.2.1 nipype-1.8.6 pathlib-1.0.1 prov-2.0.1 pydot-3.0.1 pyxnat-1.6.2 rdflib-6.3.2 traits-6.3.2\n\u001B[43mNote: you may need to restart the kernel using %restart_python or dbutils.library.restartPython() to use updated packages.\u001B[0m\n"
     ]
    }
   ],
   "source": [
    "%pip install fitz"
   ]
  },
  {
   "cell_type": "code",
   "execution_count": 0,
   "metadata": {
    "application/vnd.databricks.v1+cell": {
     "cellMetadata": {
      "byteLimit": 2048000,
      "rowLimit": 10000
     },
     "inputWidgets": {},
     "nuid": "203f14af-0d1e-459a-b5fa-7dd252411e55",
     "showTitle": false,
     "title": ""
    }
   },
   "outputs": [
    {
     "output_type": "stream",
     "name": "stdout",
     "output_type": "stream",
     "text": [
      "Collecting PyMuPDF\n  Obtaining dependency information for PyMuPDF from https://files.pythonhosted.org/packages/da/1e/80adebf57a61b270e54d2a626dfe33173d3779fca0b615833967f80ec6cd/PyMuPDF-1.24.9-cp311-none-manylinux2014_x86_64.whl.metadata\n  Downloading PyMuPDF-1.24.9-cp311-none-manylinux2014_x86_64.whl.metadata (3.4 kB)\nCollecting PyMuPDFb==1.24.9 (from PyMuPDF)\n  Obtaining dependency information for PyMuPDFb==1.24.9 from https://files.pythonhosted.org/packages/73/99/b54b666098c6085c19c6e9848430d39398f7fab3141de0873e7db358d6b3/PyMuPDFb-1.24.9-py3-none-manylinux2014_x86_64.manylinux_2_17_x86_64.whl.metadata\n  Downloading PyMuPDFb-1.24.9-py3-none-manylinux2014_x86_64.manylinux_2_17_x86_64.whl.metadata (1.4 kB)\nDownloading PyMuPDF-1.24.9-cp311-none-manylinux2014_x86_64.whl (3.5 MB)\n\u001B[?25l   \u001B[90m━━━━━━━━━━━━━━━━━━━━━━━━━━━━━━━━━━━━━━━━\u001B[0m \u001B[32m0.0/3.5 MB\u001B[0m \u001B[31m?\u001B[0m eta \u001B[36m-:--:--\u001B[0m\n\u001B[2K   \u001B[91m━━\u001B[0m\u001B[91m╸\u001B[0m\u001B[90m━━━━━━━━━━━━━━━━━━━━━━━━━━━━━━━━━━━━━\u001B[0m \u001B[32m0.3/3.5 MB\u001B[0m \u001B[31m8.2 MB/s\u001B[0m eta \u001B[36m0:00:01\u001B[0m\n\u001B[2K   \u001B[91m━━━━━━\u001B[0m\u001B[91m╸\u001B[0m\u001B[90m━━━━━━━━━━━━━━━━━━━━━━━━━━━━━━━━━\u001B[0m \u001B[32m0.6/3.5 MB\u001B[0m \u001B[31m8.8 MB/s\u001B[0m eta \u001B[36m0:00:01\u001B[0m\n\u001B[2K   \u001B[91m━━━━━━━━━━━━━\u001B[0m\u001B[90m╺\u001B[0m\u001B[90m━━━━━━━━━━━━━━━━━━━━━━━━━━\u001B[0m \u001B[32m1.2/3.5 MB\u001B[0m \u001B[31m11.6 MB/s\u001B[0m eta \u001B[36m0:00:01\u001B[0m\n\u001B[2K   \u001B[91m━━━━━━━━━━━━━━━━━━━━━━\u001B[0m\u001B[90m╺\u001B[0m\u001B[90m━━━━━━━━━━━━━━━━━\u001B[0m \u001B[32m1.9/3.5 MB\u001B[0m \u001B[31m14.4 MB/s\u001B[0m eta \u001B[36m0:00:01\u001B[0m\n\u001B[2K   \u001B[91m━━━━━━━━━━━━━━━━━━━━━━━━━━━━━━━━━━\u001B[0m\u001B[90m╺\u001B[0m\u001B[90m━━━━━\u001B[0m \u001B[32m3.0/3.5 MB\u001B[0m \u001B[31m17.4 MB/s\u001B[0m eta \u001B[36m0:00:01\u001B[0m\n\u001B[2K   \u001B[91m━━━━━━━━━━━━━━━━━━━━━━━━━━━━━━━━━━━━━━━\u001B[0m\u001B[91m╸\u001B[0m \u001B[32m3.5/3.5 MB\u001B[0m \u001B[31m18.7 MB/s\u001B[0m eta \u001B[36m0:00:01\u001B[0m\n\u001B[2K   \u001B[91m━━━━━━━━━━━━━━━━━━━━━━━━━━━━━━━━━━━━━━━\u001B[0m\u001B[91m╸\u001B[0m \u001B[32m3.5/3.5 MB\u001B[0m \u001B[31m18.7 MB/s\u001B[0m eta \u001B[36m0:00:01\u001B[0m\n\u001B[2K   \u001B[91m━━━━━━━━━━━━━━━━━━━━━━━━━━━━━━━━━━━━━━━\u001B[0m\u001B[91m╸\u001B[0m \u001B[32m3.5/3.5 MB\u001B[0m \u001B[31m18.7 MB/s\u001B[0m eta \u001B[36m0:00:01\u001B[0m\n\u001B[2K   \u001B[91m━━━━━━━━━━━━━━━━━━━━━━━━━━━━━━━━━━━━━━━\u001B[0m\u001B[91m╸\u001B[0m \u001B[32m3.5/3.5 MB\u001B[0m \u001B[31m18.7 MB/s\u001B[0m eta \u001B[36m0:00:01\u001B[0m\n\u001B[2K   \u001B[91m━━━━━━━━━━━━━━━━━━━━━━━━━━━━━━━━━━━━━━━\u001B[0m\u001B[91m╸\u001B[0m \u001B[32m3.5/3.5 MB\u001B[0m \u001B[31m18.7 MB/s\u001B[0m eta \u001B[36m0:00:01\u001B[0m\n\u001B[2K   \u001B[91m━━━━━━━━━━━━━━━━━━━━━━━━━━━━━━━━━━━━━━━\u001B[0m\u001B[91m╸\u001B[0m \u001B[32m3.5/3.5 MB\u001B[0m \u001B[31m18.7 MB/s\u001B[0m eta \u001B[36m0:00:01\u001B[0m\n\u001B[2K   \u001B[91m━━━━━━━━━━━━━━━━━━━━━━━━━━━━━━━━━━━━━━━\u001B[0m\u001B[91m╸\u001B[0m \u001B[32m3.5/3.5 MB\u001B[0m \u001B[31m18.7 MB/s\u001B[0m eta \u001B[36m0:00:01\u001B[0m\n\u001B[2K   \u001B[90m━━━━━━━━━━━━━━━━━━━━━━━━━━━━━━━━━━━━━━━━\u001B[0m \u001B[32m3.5/3.5 MB\u001B[0m \u001B[31m8.0 MB/s\u001B[0m eta \u001B[36m0:00:00\u001B[0m\n\u001B[?25hDownloading PyMuPDFb-1.24.9-py3-none-manylinux2014_x86_64.manylinux_2_17_x86_64.whl (15.9 MB)\n\u001B[?25l   \u001B[90m━━━━━━━━━━━━━━━━━━━━━━━━━━━━━━━━━━━━━━━━\u001B[0m \u001B[32m0.0/15.9 MB\u001B[0m \u001B[31m?\u001B[0m eta \u001B[36m-:--:--\u001B[0m\n\u001B[2K   \u001B[91m━━━\u001B[0m\u001B[91m╸\u001B[0m\u001B[90m━━━━━━━━━━━━━━━━━━━━━━━━━━━━━━━━━━━━\u001B[0m \u001B[32m1.5/15.9 MB\u001B[0m \u001B[31m46.5 MB/s\u001B[0m eta \u001B[36m0:00:01\u001B[0m\n\u001B[2K   \u001B[91m━━━━━━━━\u001B[0m\u001B[91m╸\u001B[0m\u001B[90m━━━━━━━━━━━━━━━━━━━━━━━━━━━━━━━\u001B[0m \u001B[32m3.4/15.9 MB\u001B[0m \u001B[31m50.4 MB/s\u001B[0m eta \u001B[36m0:00:01\u001B[0m\n\u001B[2K   \u001B[91m━━━━━━━━━━━━━━━\u001B[0m\u001B[91m╸\u001B[0m\u001B[90m━━━━━━━━━━━━━━━━━━━━━━━━\u001B[0m \u001B[32m6.2/15.9 MB\u001B[0m \u001B[31m60.5 MB/s\u001B[0m eta \u001B[36m0:00:01\u001B[0m\n\u001B[2K   \u001B[91m━━━━━━━━━━━━━━━━━━━━━━━━\u001B[0m\u001B[91m╸\u001B[0m\u001B[90m━━━━━━━━━━━━━━━\u001B[0m \u001B[32m9.8/15.9 MB\u001B[0m \u001B[31m70.5 MB/s\u001B[0m eta \u001B[36m0:00:01\u001B[0m\n\u001B[2K   \u001B[91m━━━━━━━━━━━━━━━━━━━━━━━━━━━━━━━━━━━━\u001B[0m\u001B[91m╸\u001B[0m\u001B[90m━━━\u001B[0m \u001B[32m14.6/15.9 MB\u001B[0m \u001B[31m110.4 MB/s\u001B[0m eta \u001B[36m0:00:01\u001B[0m\n\u001B[2K   \u001B[91m━━━━━━━━━━━━━━━━━━━━━━━━━━━━━━━━━━━━━━━\u001B[0m\u001B[91m╸\u001B[0m \u001B[32m15.9/15.9 MB\u001B[0m \u001B[31m119.4 MB/s\u001B[0m eta \u001B[36m0:00:01\u001B[0m\n\u001B[2K   \u001B[91m━━━━━━━━━━━━━━━━━━━━━━━━━━━━━━━━━━━━━━━\u001B[0m\u001B[91m╸\u001B[0m \u001B[32m15.9/15.9 MB\u001B[0m \u001B[31m119.4 MB/s\u001B[0m eta \u001B[36m0:00:01\u001B[0m\n\u001B[2K   \u001B[91m━━━━━━━━━━━━━━━━━━━━━━━━━━━━━━━━━━━━━━━\u001B[0m\u001B[91m╸\u001B[0m \u001B[32m15.9/15.9 MB\u001B[0m \u001B[31m119.4 MB/s\u001B[0m eta \u001B[36m0:00:01\u001B[0m\n\u001B[2K   \u001B[91m━━━━━━━━━━━━━━━━━━━━━━━━━━━━━━━━━━━━━━━\u001B[0m\u001B[91m╸\u001B[0m \u001B[32m15.9/15.9 MB\u001B[0m \u001B[31m119.4 MB/s\u001B[0m eta \u001B[36m0:00:01\u001B[0m\n\u001B[2K   \u001B[91m━━━━━━━━━━━━━━━━━━━━━━━━━━━━━━━━━━━━━━━\u001B[0m\u001B[91m╸\u001B[0m \u001B[32m15.9/15.9 MB\u001B[0m \u001B[31m119.4 MB/s\u001B[0m eta \u001B[36m0:00:01\u001B[0m\n\u001B[2K   \u001B[91m━━━━━━━━━━━━━━━━━━━━━━━━━━━━━━━━━━━━━━━\u001B[0m\u001B[91m╸\u001B[0m \u001B[32m15.9/15.9 MB\u001B[0m \u001B[31m119.4 MB/s\u001B[0m eta \u001B[36m0:00:01\u001B[0m\n\u001B[2K   \u001B[91m━━━━━━━━━━━━━━━━━━━━━━━━━━━━━━━━━━━━━━━\u001B[0m\u001B[91m╸\u001B[0m \u001B[32m15.9/15.9 MB\u001B[0m \u001B[31m119.4 MB/s\u001B[0m eta \u001B[36m0:00:01\u001B[0m\n\u001B[2K   \u001B[91m━━━━━━━━━━━━━━━━━━━━━━━━━━━━━━━━━━━━━━━\u001B[0m\u001B[91m╸\u001B[0m \u001B[32m15.9/15.9 MB\u001B[0m \u001B[31m119.4 MB/s\u001B[0m eta \u001B[36m0:00:01\u001B[0m\n\u001B[2K   \u001B[91m━━━━━━━━━━━━━━━━━━━━━━━━━━━━━━━━━━━━━━━\u001B[0m\u001B[91m╸\u001B[0m \u001B[32m15.9/15.9 MB\u001B[0m \u001B[31m119.4 MB/s\u001B[0m eta \u001B[36m0:00:01\u001B[0m\n\u001B[2K   \u001B[91m━━━━━━━━━━━━━━━━━━━━━━━━━━━━━━━━━━━━━━━\u001B[0m\u001B[91m╸\u001B[0m \u001B[32m15.9/15.9 MB\u001B[0m \u001B[31m119.4 MB/s\u001B[0m eta \u001B[36m0:00:01\u001B[0m\n\u001B[2K   \u001B[91m━━━━━━━━━━━━━━━━━━━━━━━━━━━━━━━━━━━━━━━\u001B[0m\u001B[91m╸\u001B[0m \u001B[32m15.9/15.9 MB\u001B[0m \u001B[31m119.4 MB/s\u001B[0m eta \u001B[36m0:00:01\u001B[0m\n\u001B[2K   \u001B[91m━━━━━━━━━━━━━━━━━━━━━━━━━━━━━━━━━━━━━━━\u001B[0m\u001B[91m╸\u001B[0m \u001B[32m15.9/15.9 MB\u001B[0m \u001B[31m119.4 MB/s\u001B[0m eta \u001B[36m0:00:01\u001B[0m\n\u001B[2K   \u001B[91m━━━━━━━━━━━━━━━━━━━━━━━━━━━━━━━━━━━━━━━\u001B[0m\u001B[91m╸\u001B[0m \u001B[32m15.9/15.9 MB\u001B[0m \u001B[31m119.4 MB/s\u001B[0m eta \u001B[36m0:00:01\u001B[0m\n\u001B[2K   \u001B[91m━━━━━━━━━━━━━━━━━━━━━━━━━━━━━━━━━━━━━━━\u001B[0m\u001B[91m╸\u001B[0m \u001B[32m15.9/15.9 MB\u001B[0m \u001B[31m119.4 MB/s\u001B[0m eta \u001B[36m0:00:01\u001B[0m\n\u001B[2K   \u001B[91m━━━━━━━━━━━━━━━━━━━━━━━━━━━━━━━━━━━━━━━\u001B[0m\u001B[91m╸\u001B[0m \u001B[32m15.9/15.9 MB\u001B[0m \u001B[31m119.4 MB/s\u001B[0m eta \u001B[36m0:00:01\u001B[0m\n\u001B[2K   \u001B[91m━━━━━━━━━━━━━━━━━━━━━━━━━━━━━━━━━━━━━━━\u001B[0m\u001B[91m╸\u001B[0m \u001B[32m15.9/15.9 MB\u001B[0m \u001B[31m119.4 MB/s\u001B[0m eta \u001B[36m0:00:01\u001B[0m\n\u001B[2K   \u001B[91m━━━━━━━━━━━━━━━━━━━━━━━━━━━━━━━━━━━━━━━\u001B[0m\u001B[91m╸\u001B[0m \u001B[32m15.9/15.9 MB\u001B[0m \u001B[31m119.4 MB/s\u001B[0m eta \u001B[36m0:00:01\u001B[0m\n\u001B[2K   \u001B[91m━━━━━━━━━━━━━━━━━━━━━━━━━━━━━━━━━━━━━━━\u001B[0m\u001B[91m╸\u001B[0m \u001B[32m15.9/15.9 MB\u001B[0m \u001B[31m119.4 MB/s\u001B[0m eta \u001B[36m0:00:01\u001B[0m\n\u001B[2K   \u001B[91m━━━━━━━━━━━━━━━━━━━━━━━━━━━━━━━━━━━━━━━\u001B[0m\u001B[91m╸\u001B[0m \u001B[32m15.9/15.9 MB\u001B[0m \u001B[31m119.4 MB/s\u001B[0m eta \u001B[36m0:00:01\u001B[0m\n\u001B[2K   \u001B[90m━━━━━━━━━━━━━━━━━━━━━━━━━━━━━━━━━━━━━━━━\u001B[0m \u001B[32m15.9/15.9 MB\u001B[0m \u001B[31m13.5 MB/s\u001B[0m eta \u001B[36m0:00:00\u001B[0m\n\u001B[?25hInstalling collected packages: PyMuPDFb, PyMuPDF\nSuccessfully installed PyMuPDF-1.24.9 PyMuPDFb-1.24.9\n\u001B[43mNote: you may need to restart the kernel using %restart_python or dbutils.library.restartPython() to use updated packages.\u001B[0m\n"
     ]
    }
   ],
   "source": [
    "%pip install PyMuPDF"
   ]
  },
  {
   "cell_type": "code",
   "execution_count": 0,
   "metadata": {
    "application/vnd.databricks.v1+cell": {
     "cellMetadata": {
      "byteLimit": 2048000,
      "rowLimit": 10000
     },
     "inputWidgets": {},
     "nuid": "c8a4ac28-735f-463f-99ea-26fbffba3ff7",
     "showTitle": false,
     "title": ""
    }
   },
   "outputs": [],
   "source": [
    "dbutils.library.restartPython()"
   ]
  },
  {
   "cell_type": "code",
   "execution_count": 0,
   "metadata": {
    "application/vnd.databricks.v1+cell": {
     "cellMetadata": {
      "byteLimit": 2048000,
      "rowLimit": 10000
     },
     "inputWidgets": {},
     "nuid": "2a8f8d8e-e822-441d-954e-7628e831f9eb",
     "showTitle": false,
     "title": ""
    }
   },
   "outputs": [],
   "source": [
    "import openai\n",
    "import pandas as pd\n",
    "import json\n",
    "import os\n",
    "import re\n",
    "import fitz\n",
    "import time\n",
    "\n",
    "from pyspark.sql.types import *"
   ]
  },
  {
   "cell_type": "markdown",
   "metadata": {
    "application/vnd.databricks.v1+cell": {
     "cellMetadata": {
      "byteLimit": 2048000,
      "rowLimit": 10000
     },
     "inputWidgets": {},
     "nuid": "454819c3-da96-478b-9657-4c78a4ed7e1e",
     "showTitle": false,
     "title": ""
    }
   },
   "source": [
    "##Variables transversales"
   ]
  },
  {
   "cell_type": "markdown",
   "metadata": {
    "application/vnd.databricks.v1+cell": {
     "cellMetadata": {
      "byteLimit": 2048000,
      "rowLimit": 10000
     },
     "inputWidgets": {},
     "nuid": "d3628bd1-8397-4e4d-8c6f-292f2281d162",
     "showTitle": false,
     "title": ""
    }
   },
   "source": [
    "Dado que la informacion referente a la conexion puede ser reutilizada, se optom por utilisar el servicio de Keyvault para asi garantizar la seguridad de las claves de acceso del servicio"
   ]
  },
  {
   "cell_type": "code",
   "execution_count": 0,
   "metadata": {
    "application/vnd.databricks.v1+cell": {
     "cellMetadata": {
      "byteLimit": 2048000,
      "rowLimit": 10000
     },
     "inputWidgets": {},
     "nuid": "5cc7e2a4-0d75-4d03-8f41-150ac6bb2f87",
     "showTitle": false,
     "title": ""
    },
    "id": "mkRJZVMtkFsa"
   },
   "outputs": [],
   "source": [
    "#claves para hacer la conexion a chat-gpt 4.0\n",
    "openai.api_type = \"azure\"\n",
    "openai.api_key = dbutils.secrets.get(scope = 'Prueba-Scope', key = 'KeyApi-OpenAI')\n",
    "openai.api_base = dbutils.secrets.get(scope = 'Prueba-Scope', key = 'UriOpenAI')\n",
    "openai.api_version = \"2023-05-15\""
   ]
  },
  {
   "cell_type": "markdown",
   "metadata": {
    "application/vnd.databricks.v1+cell": {
     "cellMetadata": {
      "byteLimit": 2048000,
      "rowLimit": 10000
     },
     "inputWidgets": {},
     "nuid": "6ac5f986-85a9-4af3-90db-5061f0678fc5",
     "showTitle": false,
     "title": ""
    }
   },
   "source": [
    "Se definio un punto de montaje hacia el un blob storage, esto con el objetivo de manejar las operaciones respetando las definiciones de la arquitectura medallion, esto provee distintas etapas de calidad sobre los datos."
   ]
  },
  {
   "cell_type": "code",
   "execution_count": 0,
   "metadata": {
    "application/vnd.databricks.v1+cell": {
     "cellMetadata": {
      "byteLimit": 2048000,
      "rowLimit": 10000
     },
     "inputWidgets": {},
     "nuid": "38656107-ea3a-4106-b9bb-d3d10a6c3385",
     "showTitle": false,
     "title": ""
    }
   },
   "outputs": [],
   "source": [
    "path_blob_bronze = \"/mnt/storage/Bronze/Actual\"\n",
    "path_blob_silver = \"/mnt/storage/Silver/Actual\"\n",
    "path_blob_gold = \"/mnt/storage/Gold/Actual\""
   ]
  },
  {
   "cell_type": "markdown",
   "metadata": {
    "application/vnd.databricks.v1+cell": {
     "cellMetadata": {
      "byteLimit": 2048000,
      "rowLimit": 10000
     },
     "inputWidgets": {},
     "nuid": "04016bbf-671c-4615-bcf6-9b82719bc265",
     "showTitle": false,
     "title": ""
    }
   },
   "source": [
    "##Extraccion del texto plano de los archivos PDF"
   ]
  },
  {
   "cell_type": "markdown",
   "metadata": {
    "application/vnd.databricks.v1+cell": {
     "cellMetadata": {
      "byteLimit": 2048000,
      "rowLimit": 10000
     },
     "inputWidgets": {},
     "nuid": "73b411f8-ef2f-4bd8-91c9-d3c0fc82b754",
     "showTitle": false,
     "title": ""
    }
   },
   "source": [
    "Como primera instancia, a nivel de bronze, llegaran los archivos PDF que corresponden a las CV de los candidatos, en esta etapa se ingestan y mediante la libreria fitz se obtiene el texto plano que se encuentra en cada PDF, esto debido a que la API de OpenAI recibe como parametros de entrada texto plano."
   ]
  },
  {
   "cell_type": "code",
   "execution_count": 0,
   "metadata": {
    "application/vnd.databricks.v1+cell": {
     "cellMetadata": {
      "byteLimit": 2048000,
      "rowLimit": 10000
     },
     "inputWidgets": {},
     "nuid": "9b917885-896d-431d-bae6-ddbdd681717c",
     "showTitle": false,
     "title": ""
    },
    "id": "5Or8V87QxCK1"
   },
   "outputs": [],
   "source": [
    "#Esta funcion lee el txt ya procesado\n",
    "def get_text(text_file):\n",
    "  with open(text_file,'r') as f:\n",
    "    text = f.read()\n",
    "    f.close()\n",
    "  return text"
   ]
  },
  {
   "cell_type": "code",
   "execution_count": 0,
   "metadata": {
    "application/vnd.databricks.v1+cell": {
     "cellMetadata": {
      "byteLimit": 2048000,
      "rowLimit": 10000
     },
     "inputWidgets": {},
     "nuid": "8791d761-15d2-4d63-9b28-19029ecc36d1",
     "showTitle": false,
     "title": ""
    }
   },
   "outputs": [],
   "source": [
    "def clean_text(text):\n",
    "    #Reemplazar saltos de línea y tabulaciones con un espacio\n",
    "    text = re.sub(r'\\n', ' ', text)\n",
    "    text = re.sub(r'\\t', ' ', text)\n",
    "    \n",
    "    #Reemplazar secuencias de múltiples espacios con un solo espacio\n",
    "    text = re.sub(r' +', ' ', text)\n",
    "    \n",
    "    #Reemplazar otros caracteres no deseados\n",
    "    text = text.replace('\\xa0', ' ')\n",
    "    \n",
    "    #Se liminan cadenas en blanco al final del texto\n",
    "    text = text.strip()\n",
    "    \n",
    "    return text"
   ]
  },
  {
   "cell_type": "markdown",
   "metadata": {
    "application/vnd.databricks.v1+cell": {
     "cellMetadata": {
      "byteLimit": 2048000,
      "rowLimit": 10000
     },
     "inputWidgets": {},
     "nuid": "84c7548f-2fdb-401d-958e-66e19187d058",
     "showTitle": false,
     "title": ""
    }
   },
   "source": [
    "Se obtienen las respectivas rutas de cada archivo en funcion del punto de montaje en bronze, de esta forma se extraera el texto del mismo y sera guardado en la capa de silver para su posterior consumo."
   ]
  },
  {
   "cell_type": "code",
   "execution_count": 0,
   "metadata": {
    "application/vnd.databricks.v1+cell": {
     "cellMetadata": {
      "byteLimit": 2048000,
      "rowLimit": 10000
     },
     "inputWidgets": {},
     "nuid": "ce5bec10-0e62-4462-9661-bafd8e36f5d0",
     "showTitle": false,
     "title": ""
    }
   },
   "outputs": [],
   "source": [
    "pdf_files = dbutils.fs.ls(path_blob_bronze)\n",
    "pdf_files = [file.path for file in pdf_files if file.path.endswith(\".pdf\")]\n",
    "pdf_files = [file.replace(\"dbfs:/\", \"/dbfs/\") for file in pdf_files]"
   ]
  },
  {
   "cell_type": "code",
   "execution_count": 0,
   "metadata": {
    "application/vnd.databricks.v1+cell": {
     "cellMetadata": {
      "byteLimit": 2048000,
      "rowLimit": 10000
     },
     "inputWidgets": {},
     "nuid": "14f63f24-2e2c-4104-9c67-5390ab1c6532",
     "showTitle": false,
     "title": ""
    }
   },
   "outputs": [],
   "source": [
    "for pdf_file in pdf_files:\n",
    "    pdf_document = fitz.open(pdf_file)\n",
    "    text = \"\"\n",
    "    \n",
    "    #Se extrae el texto de cada página\n",
    "    for page_num in range(pdf_document.page_count):\n",
    "        page = pdf_document.load_page(page_num)\n",
    "        text += page.get_text()\n",
    "\n",
    "    #Se llama una funcion de limpieza debido a los saltos linea y otros caracteres especiales\n",
    "    cleaned_text = clean_text(text)\n",
    "    \n",
    "    #Se define el nombre del archivo, el cual sera el mismo que provenia del pdf pero con una extension txt\n",
    "    txt_file_name = pdf_file.replace(\".pdf\", \".txt\").split(\"/\")[-1]\n",
    "\n",
    "    #Se guarda el texto en el Blob Storage\n",
    "    with open(\"/dbfs\" + path_blob_silver+\"/\"+txt_file_name, \"w\") as txt_file:\n",
    "        txt_file.write(cleaned_text)"
   ]
  },
  {
   "cell_type": "markdown",
   "metadata": {
    "application/vnd.databricks.v1+cell": {
     "cellMetadata": {
      "byteLimit": 2048000,
      "rowLimit": 10000
     },
     "inputWidgets": {},
     "nuid": "bd5ded9c-cdf2-48eb-b8c3-3b2818bc4449",
     "showTitle": false,
     "title": ""
    }
   },
   "source": [
    "##Analisis de las hojas de vida mediante la API de OpenAI"
   ]
  },
  {
   "cell_type": "markdown",
   "metadata": {
    "application/vnd.databricks.v1+cell": {
     "cellMetadata": {
      "byteLimit": 2048000,
      "rowLimit": 10000
     },
     "inputWidgets": {},
     "nuid": "bc630f9f-d2a8-4580-8668-f44dd44bf364",
     "showTitle": false,
     "title": ""
    }
   },
   "source": [
    "Una vez que se encuentran definidos los archivos de texto plano sobre la capa de silver, se ingestan los datos, luego se definio un conjunto de funciones con prompts personalizados y categorizados para maximizar la respuesta del modelo.\n",
    "\n",
    "Cada funcion se encargara de obtener el valor solicitado a traves del JSON provisto por la API y posteriormente sera almacenado en una lista para luego generar el conjunto de datos de forma estructurada, de esta forma se podran ver con mayor facilidad todos los resultados de los candidatos."
   ]
  },
  {
   "cell_type": "code",
   "execution_count": 0,
   "metadata": {
    "application/vnd.databricks.v1+cell": {
     "cellMetadata": {
      "byteLimit": 2048000,
      "rowLimit": 10000
     },
     "inputWidgets": {},
     "nuid": "cb3db2f1-aeb4-4e19-a5ca-dcc1e14ee41d",
     "showTitle": false,
     "title": ""
    },
    "id": "8oJ8kMgyxMB2"
   },
   "outputs": [],
   "source": [
    "#Obtener nombre del candidato\n",
    "def get_nombre_candidato(text):\n",
    "  user_input = f'''---\n",
    "  Basado en el siguiente texto el cual corresponde a una hoja de vida o CV \"{text}\"\n",
    "  ---\n",
    "  Indica de forma especifica, ¿cual el nombre completo de la persona?'''\n",
    "  system_prompt = f'''\n",
    "  Tienes esta informacion y solo debes responder basado en esta informacion, ademas el texto de respuesta no debe ser extenso. La respuesta que debes dar es: 'El nombre es' : {text}\n",
    "  '''\n",
    "  messages=[\n",
    "      {\"role\": \"system\", \"content\": system_prompt},\n",
    "      {\"role\": \"user\", \"content\": user_input},\n",
    "  ]\n",
    "  response = openai.ChatCompletion.create(engine=\"demo-iwco\", messages=messages, temperature=0)\n",
    "  result = response.get('choices', [{}])[0].get('message', {}).get('content', None)\n",
    "  return result"
   ]
  },
  {
   "cell_type": "code",
   "execution_count": 0,
   "metadata": {
    "application/vnd.databricks.v1+cell": {
     "cellMetadata": {
      "byteLimit": 2048000,
      "rowLimit": 10000
     },
     "inputWidgets": {},
     "nuid": "50dc5ffb-f41b-49b3-b353-30a6d930ced8",
     "showTitle": false,
     "title": ""
    }
   },
   "outputs": [],
   "source": [
    "def get_numero(text):\n",
    "  user_input = f'''---\n",
    "  Basado en el siguiente texto el cual corresponde a una hoja de vida o CV \"{text}\"\n",
    "  ---\n",
    "  Indica de forma especifica, ¿cual el numero celular o de telefono de la persona?'''\n",
    "  system_prompt = f'''\n",
    "  Tienes esta informacion y solo debes responder basado en esta informacion. La respuesta que debes dar es: 'El numero de contacto es' : {text}\n",
    "  '''\n",
    "  messages=[\n",
    "      {\"role\": \"system\", \"content\": system_prompt},\n",
    "      {\"role\": \"user\", \"content\": user_input},\n",
    "  ]\n",
    "  response = openai.ChatCompletion.create(engine=\"demo-iwco\", messages=messages, temperature=0)\n",
    "  result = response.get('choices', [{}])[0].get('message', {}).get('content', None)\n",
    "  return result"
   ]
  },
  {
   "cell_type": "code",
   "execution_count": 0,
   "metadata": {
    "application/vnd.databricks.v1+cell": {
     "cellMetadata": {
      "byteLimit": 2048000,
      "rowLimit": 10000
     },
     "inputWidgets": {},
     "nuid": "08ed3558-f8f4-42af-9e57-6023cb7c9b50",
     "showTitle": false,
     "title": ""
    }
   },
   "outputs": [],
   "source": [
    "def years_experience(text):\n",
    "  user_input = f'''---\n",
    "  Basado en el siguiente texto el cual corresponde a una hoja de vida o CV \"{text}\"\n",
    "  ---\n",
    "  Indica de forma especifica, ¿cuantos años de experiencia tiene la persona?. En caso que no este explicita la cantidad de años, determina los años de experiencia en funcion de los periodos de tiempo trabajados por la persona'''\n",
    "  system_prompt = f'''\n",
    "  Tienes esta informacion y solo debes responder basado en esta informacion. La respuesta que debes dar es: 'Tiene un total de' : {text}\n",
    "  '''\n",
    "  messages=[\n",
    "      {\"role\": \"system\", \"content\": system_prompt},\n",
    "      {\"role\": \"user\", \"content\": user_input},\n",
    "  ]\n",
    "  response = openai.ChatCompletion.create(engine=\"demo-iwco\", messages=messages, temperature=0)\n",
    "  result = response.get('choices', [{}])[0].get('message', {}).get('content', None)\n",
    "  return result"
   ]
  },
  {
   "cell_type": "code",
   "execution_count": 0,
   "metadata": {
    "application/vnd.databricks.v1+cell": {
     "cellMetadata": {
      "byteLimit": 2048000,
      "rowLimit": 10000
     },
     "inputWidgets": {},
     "nuid": "cfe5cf71-f27f-4922-aa78-739aadcb9071",
     "showTitle": false,
     "title": ""
    }
   },
   "outputs": [],
   "source": [
    "def formacion_IA(text):\n",
    "  user_input = f'''---\n",
    "  Basado en el siguiente texto el cual corresponde a una hoja de vida o CV \"{text}\"\n",
    "  ---\n",
    "  Indica de forma especifica, ¿la persona tiene alguna formacion en IA?.'''\n",
    "  system_prompt = f'''\n",
    "  Tienes esta informacion y solo debes responder basado en esta informacion. En caso de ser afirmativa la respuesta, debes indicar : 'Si, tiene conocimiento en las siguientes herramientas de IA' : {text}. Caso contrario, solo debes responder : 'No, no tiene conocimiento'.\n",
    "  '''\n",
    "  messages=[\n",
    "      {\"role\": \"system\", \"content\": system_prompt},\n",
    "      {\"role\": \"user\", \"content\": user_input},\n",
    "  ]\n",
    "  response = openai.ChatCompletion.create(engine=\"demo-iwco\", messages=messages, temperature=0)\n",
    "  result = response.get('choices', [{}])[0].get('message', {}).get('content', None)\n",
    "  return result"
   ]
  },
  {
   "cell_type": "code",
   "execution_count": 0,
   "metadata": {
    "application/vnd.databricks.v1+cell": {
     "cellMetadata": {
      "byteLimit": 2048000,
      "rowLimit": 10000
     },
     "inputWidgets": {},
     "nuid": "349d23fd-d57c-4951-9b94-a3162db8255a",
     "showTitle": false,
     "title": ""
    },
    "id": "Hm1aYTvmlugg"
   },
   "outputs": [],
   "source": [
    "#Esta funcion se encarga de llamar las consultas de busqueda definidas.\n",
    "\n",
    "def get_fields(txt_file):\n",
    "  data = [] \n",
    "  text = get_text(txt_file)\n",
    "\n",
    "  nombre_candidato = get_nombre_candidato(text=text)\n",
    "  numero_contacto = get_numero(text=text)\n",
    "  experiencia = years_experience(text=text)\n",
    "  formacion = formacion_IA(text=text)\n",
    "  data.append((nombre_candidato,numero_contacto,experiencia,formacion))\n",
    "\n",
    "  return data"
   ]
  },
  {
   "cell_type": "code",
   "execution_count": 0,
   "metadata": {
    "application/vnd.databricks.v1+cell": {
     "cellMetadata": {
      "byteLimit": 2048000,
      "rowLimit": 10000
     },
     "inputWidgets": {},
     "nuid": "12b78cd0-e5e5-4712-94a6-54e4cf68aaf9",
     "showTitle": false,
     "title": ""
    }
   },
   "outputs": [],
   "source": [
    "#Se obtienen los archivos txt desde silver para poder extraer los valores solicitados de cada uno de ellos.\n",
    "txt_files = dbutils.fs.ls(path_blob_silver)\n",
    "txt_files = [file.path for file in txt_files if file.path.endswith(\".txt\")]\n",
    "txt_files = [file.replace(\"dbfs:/\", \"/dbfs/\") for file in txt_files]"
   ]
  },
  {
   "cell_type": "code",
   "execution_count": 0,
   "metadata": {
    "application/vnd.databricks.v1+cell": {
     "cellMetadata": {
      "byteLimit": 2048000,
      "rowLimit": 10000
     },
     "inputWidgets": {},
     "nuid": "f3ddf4cc-1da6-4be9-923d-42b14d2e9dbf",
     "showTitle": false,
     "title": ""
    }
   },
   "outputs": [],
   "source": [
    "all_results = []\n",
    "\n",
    "for i in txt_files:\n",
    "    file_results = get_fields(i)\n",
    "    all_results.extend(file_results)"
   ]
  },
  {
   "cell_type": "code",
   "execution_count": 0,
   "metadata": {
    "application/vnd.databricks.v1+cell": {
     "cellMetadata": {
      "byteLimit": 2048000,
      "rowLimit": 10000
     },
     "inputWidgets": {},
     "nuid": "a1fec980-c819-4526-b6f9-b6bba795f2be",
     "showTitle": false,
     "title": ""
    }
   },
   "outputs": [],
   "source": [
    "schema = StructType([\n",
    "    StructField(\"Nombre_Candidato\", StringType(), True),\n",
    "    StructField(\"Numero_Contacto\", StringType(), True),\n",
    "    StructField(\"Años_Experiencia\", StringType(), True),\n",
    "    StructField(\"Experiencia_IA\", StringType(), True)\n",
    "])\n",
    "\n",
    "df = spark.createDataFrame(all_results, schema=schema)"
   ]
  },
  {
   "cell_type": "code",
   "execution_count": 0,
   "metadata": {
    "application/vnd.databricks.v1+cell": {
     "cellMetadata": {
      "byteLimit": 2048000,
      "rowLimit": 10000
     },
     "inputWidgets": {},
     "nuid": "02f78efd-edc0-43bb-975a-db923e73bbf6",
     "showTitle": false,
     "title": ""
    }
   },
   "outputs": [
    {
     "output_type": "display_data",
     "data": {
      "text/html": [
       "<style scoped>\n",
       "  .table-result-container {\n",
       "    max-height: 300px;\n",
       "    overflow: auto;\n",
       "  }\n",
       "  table, th, td {\n",
       "    border: 1px solid black;\n",
       "    border-collapse: collapse;\n",
       "  }\n",
       "  th, td {\n",
       "    padding: 5px;\n",
       "  }\n",
       "  th {\n",
       "    text-align: left;\n",
       "  }\n",
       "</style><div class='table-result-container'><table class='table-result'><thead style='background-color: white'><tr><th>Nombre_Candidato</th><th>Numero_Contacto</th><th>Años_Experiencia</th><th>Experiencia_IA</th></tr></thead><tbody><tr><td>El nombre es: Junaedi Puji</td><td>El numero de contacto es: +6282331472499</td><td>Tiene un total de más de 6 años de experiencia.</td><td>No, no tiene conocimiento.</td></tr><tr><td>El nombre es: Powell Finwood</td><td>El numero de contacto es: +123-456-7890</td><td>Tiene un total de 3 años y 10 meses de experiencia.</td><td>No, no tiene conocimiento.</td></tr><tr><td>El nombre es: Michael Smith</td><td>El numero de contacto es: 'Email me on Indeed: indeed.com/r/falicent/140749dace5dc26f'</td><td>Tiene un total de 10+ years of Experience.</td><td>No, no tiene conocimiento.</td></tr><tr><td>El nombre es: Dyah Hediyati S.Kom</td><td>El numero de contacto es: +62 85287404232</td><td>Tiene un total de 3 años de experiencia en analizar y procesar datos de transacciones.</td><td>No, no tiene conocimiento.</td></tr><tr><td>El nombre es: IMMANUEL ABRAHAM MAHARDHIKA YUDANTORO TOBING</td><td>El numero de contacto es: +62 8577 7124 773</td><td>Tiene un total de 6 años de experiencia.</td><td>No, no tiene conocimiento.</td></tr><tr><td>El nombre es: Alice Clark</td><td>El numero de contacto es</td><td>Tiene un total de 20+ años de experiencia.</td><td>Sí, tiene conocimiento en las siguientes herramientas de IA: Machine Learning, Natural Language Processing.</td></tr><tr><td>El nombre es: Ringgi Cahyo Dwiputra</td><td>El numero de contacto es: 085157115062</td><td>Tiene un total de 2 años y 8 meses de experiencia profesional.</td><td>No, no tiene conocimiento.</td></tr><tr><td>El nombre es: DR.SANTOSH KAKADE</td><td>El número de contacto es: 09850671175 o 09422071490.</td><td>Tiene un total de 20 años de experiencia en atención al paciente y cirugía.</td><td>No, no tiene conocimiento.</td></tr><tr><td>El nombre es Loren Shevitz.</td><td>El numero de contacto es: 773-665-1234</td><td>Tiene un total de 27 años de experiencia.</td><td>No, no tiene conocimiento.</td></tr></tbody></table></div>"
      ]
     },
     "metadata": {
      "application/vnd.databricks.v1+output": {
       "addedWidgets": {},
       "aggData": [],
       "aggError": "",
       "aggOverflow": false,
       "aggSchema": [],
       "aggSeriesLimitReached": false,
       "aggType": "",
       "arguments": {},
       "columnCustomDisplayInfos": {},
       "data": [
        [
         "El nombre es: Junaedi Puji",
         "El numero de contacto es: +6282331472499",
         "Tiene un total de más de 6 años de experiencia.",
         "No, no tiene conocimiento."
        ],
        [
         "El nombre es: Powell Finwood",
         "El numero de contacto es: +123-456-7890",
         "Tiene un total de 3 años y 10 meses de experiencia.",
         "No, no tiene conocimiento."
        ],
        [
         "El nombre es: Michael Smith",
         "El numero de contacto es: 'Email me on Indeed: indeed.com/r/falicent/140749dace5dc26f'",
         "Tiene un total de 10+ years of Experience.",
         "No, no tiene conocimiento."
        ],
        [
         "El nombre es: Dyah Hediyati S.Kom",
         "El numero de contacto es: +62 85287404232",
         "Tiene un total de 3 años de experiencia en analizar y procesar datos de transacciones.",
         "No, no tiene conocimiento."
        ],
        [
         "El nombre es: IMMANUEL ABRAHAM MAHARDHIKA YUDANTORO TOBING",
         "El numero de contacto es: +62 8577 7124 773",
         "Tiene un total de 6 años de experiencia.",
         "No, no tiene conocimiento."
        ],
        [
         "El nombre es: Alice Clark",
         "El numero de contacto es",
         "Tiene un total de 20+ años de experiencia.",
         "Sí, tiene conocimiento en las siguientes herramientas de IA: Machine Learning, Natural Language Processing."
        ],
        [
         "El nombre es: Ringgi Cahyo Dwiputra",
         "El numero de contacto es: 085157115062",
         "Tiene un total de 2 años y 8 meses de experiencia profesional.",
         "No, no tiene conocimiento."
        ],
        [
         "El nombre es: DR.SANTOSH KAKADE",
         "El número de contacto es: 09850671175 o 09422071490.",
         "Tiene un total de 20 años de experiencia en atención al paciente y cirugía.",
         "No, no tiene conocimiento."
        ],
        [
         "El nombre es Loren Shevitz.",
         "El numero de contacto es: 773-665-1234",
         "Tiene un total de 27 años de experiencia.",
         "No, no tiene conocimiento."
        ]
       ],
       "datasetInfos": [],
       "dbfsResultPath": null,
       "isJsonSchema": true,
       "metadata": {},
       "overflow": false,
       "plotOptions": {
        "customPlotOptions": {},
        "displayType": "table",
        "pivotAggregation": null,
        "pivotColumns": null,
        "xColumns": null,
        "yColumns": null
       },
       "removedWidgets": [],
       "schema": [
        {
         "metadata": "{}",
         "name": "Nombre_Candidato",
         "type": "\"string\""
        },
        {
         "metadata": "{}",
         "name": "Numero_Contacto",
         "type": "\"string\""
        },
        {
         "metadata": "{}",
         "name": "Años_Experiencia",
         "type": "\"string\""
        },
        {
         "metadata": "{}",
         "name": "Experiencia_IA",
         "type": "\"string\""
        }
       ],
       "type": "table"
      }
     },
     "output_type": "display_data"
    }
   ],
   "source": [
    "df.display()"
   ]
  },
  {
   "cell_type": "code",
   "execution_count": 0,
   "metadata": {
    "application/vnd.databricks.v1+cell": {
     "cellMetadata": {
      "byteLimit": 2048000,
      "rowLimit": 10000
     },
     "inputWidgets": {},
     "nuid": "c22aefd3-2d83-402b-a5ba-6f295d6026c9",
     "showTitle": false,
     "title": ""
    }
   },
   "outputs": [],
   "source": [
    "#Los datos resultantes ya estructurados se exportan a la capa de gold para un posible consumo\n",
    "df.write.parquet(path_blob_gold+\"/candidatos\")"
   ]
  }
 ],
 "metadata": {
  "application/vnd.databricks.v1+notebook": {
   "dashboards": [],
   "environmentMetadata": null,
   "language": "python",
   "notebookMetadata": {
    "mostRecentlyExecutedCommandWithImplicitDF": {
     "commandId": 301578197343231,
     "dataframes": [
      "_sqldf"
     ]
    },
    "pythonIndentUnit": 4
   },
   "notebookName": "Model #2",
   "widgets": {}
  },
  "colab": {
   "provenance": []
  },
  "kernelspec": {
   "display_name": "Python 3",
   "name": "python3"
  },
  "language_info": {
   "name": "python"
  }
 },
 "nbformat": 4,
 "nbformat_minor": 0
}
